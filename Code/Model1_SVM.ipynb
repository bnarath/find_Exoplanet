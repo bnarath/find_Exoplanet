{
 "cells": [
  {
   "cell_type": "markdown",
   "metadata": {},
   "source": [
    "## Dependencies"
   ]
  },
  {
   "cell_type": "code",
   "execution_count": 6,
   "metadata": {},
   "outputs": [],
   "source": [
    "import pandas as pd\n",
    "import numpy as np\n",
    "import missingno as msno\n",
    "import matplotlib.pyplot as plt\n",
    "from sklearn.model_selection import train_test_split\n",
    "from sklearn.metrics import plot_confusion_matrix\n",
    "\n",
    "from IPython.core.interactiveshell import InteractiveShell\n",
    "InteractiveShell.ast_node_interactivity = 'all'\n",
    "\n",
    "seed = 100"
   ]
  },
  {
   "cell_type": "markdown",
   "metadata": {},
   "source": [
    "## Read the CSV and Perform Basic Data Cleaning"
   ]
  },
  {
   "cell_type": "code",
   "execution_count": 7,
   "metadata": {},
   "outputs": [
    {
     "data": {
      "text/html": [
       "<div>\n",
       "<style scoped>\n",
       "    .dataframe tbody tr th:only-of-type {\n",
       "        vertical-align: middle;\n",
       "    }\n",
       "\n",
       "    .dataframe tbody tr th {\n",
       "        vertical-align: top;\n",
       "    }\n",
       "\n",
       "    .dataframe thead th {\n",
       "        text-align: right;\n",
       "    }\n",
       "</style>\n",
       "<table border=\"1\" class=\"dataframe\">\n",
       "  <thead>\n",
       "    <tr style=\"text-align: right;\">\n",
       "      <th></th>\n",
       "      <th>koi_disposition</th>\n",
       "      <th>koi_fpflag_nt</th>\n",
       "      <th>koi_fpflag_ss</th>\n",
       "      <th>koi_fpflag_co</th>\n",
       "      <th>koi_fpflag_ec</th>\n",
       "      <th>koi_period</th>\n",
       "      <th>koi_period_err1</th>\n",
       "      <th>koi_period_err2</th>\n",
       "      <th>koi_time0bk</th>\n",
       "      <th>koi_time0bk_err1</th>\n",
       "      <th>...</th>\n",
       "      <th>koi_steff_err2</th>\n",
       "      <th>koi_slogg</th>\n",
       "      <th>koi_slogg_err1</th>\n",
       "      <th>koi_slogg_err2</th>\n",
       "      <th>koi_srad</th>\n",
       "      <th>koi_srad_err1</th>\n",
       "      <th>koi_srad_err2</th>\n",
       "      <th>ra</th>\n",
       "      <th>dec</th>\n",
       "      <th>koi_kepmag</th>\n",
       "    </tr>\n",
       "  </thead>\n",
       "  <tbody>\n",
       "    <tr>\n",
       "      <th>0</th>\n",
       "      <td>CONFIRMED</td>\n",
       "      <td>0</td>\n",
       "      <td>0</td>\n",
       "      <td>0</td>\n",
       "      <td>0</td>\n",
       "      <td>54.418383</td>\n",
       "      <td>2.479000e-04</td>\n",
       "      <td>-2.479000e-04</td>\n",
       "      <td>162.513840</td>\n",
       "      <td>0.003520</td>\n",
       "      <td>...</td>\n",
       "      <td>-81</td>\n",
       "      <td>4.467</td>\n",
       "      <td>0.064</td>\n",
       "      <td>-0.096</td>\n",
       "      <td>0.927</td>\n",
       "      <td>0.105</td>\n",
       "      <td>-0.061</td>\n",
       "      <td>291.93423</td>\n",
       "      <td>48.141651</td>\n",
       "      <td>15.347</td>\n",
       "    </tr>\n",
       "    <tr>\n",
       "      <th>1</th>\n",
       "      <td>FALSE POSITIVE</td>\n",
       "      <td>0</td>\n",
       "      <td>1</td>\n",
       "      <td>0</td>\n",
       "      <td>0</td>\n",
       "      <td>19.899140</td>\n",
       "      <td>1.490000e-05</td>\n",
       "      <td>-1.490000e-05</td>\n",
       "      <td>175.850252</td>\n",
       "      <td>0.000581</td>\n",
       "      <td>...</td>\n",
       "      <td>-176</td>\n",
       "      <td>4.544</td>\n",
       "      <td>0.044</td>\n",
       "      <td>-0.176</td>\n",
       "      <td>0.868</td>\n",
       "      <td>0.233</td>\n",
       "      <td>-0.078</td>\n",
       "      <td>297.00482</td>\n",
       "      <td>48.134129</td>\n",
       "      <td>15.436</td>\n",
       "    </tr>\n",
       "    <tr>\n",
       "      <th>2</th>\n",
       "      <td>FALSE POSITIVE</td>\n",
       "      <td>0</td>\n",
       "      <td>1</td>\n",
       "      <td>0</td>\n",
       "      <td>0</td>\n",
       "      <td>1.736952</td>\n",
       "      <td>2.630000e-07</td>\n",
       "      <td>-2.630000e-07</td>\n",
       "      <td>170.307565</td>\n",
       "      <td>0.000115</td>\n",
       "      <td>...</td>\n",
       "      <td>-174</td>\n",
       "      <td>4.564</td>\n",
       "      <td>0.053</td>\n",
       "      <td>-0.168</td>\n",
       "      <td>0.791</td>\n",
       "      <td>0.201</td>\n",
       "      <td>-0.067</td>\n",
       "      <td>285.53461</td>\n",
       "      <td>48.285210</td>\n",
       "      <td>15.597</td>\n",
       "    </tr>\n",
       "    <tr>\n",
       "      <th>3</th>\n",
       "      <td>CONFIRMED</td>\n",
       "      <td>0</td>\n",
       "      <td>0</td>\n",
       "      <td>0</td>\n",
       "      <td>0</td>\n",
       "      <td>2.525592</td>\n",
       "      <td>3.760000e-06</td>\n",
       "      <td>-3.760000e-06</td>\n",
       "      <td>171.595550</td>\n",
       "      <td>0.001130</td>\n",
       "      <td>...</td>\n",
       "      <td>-211</td>\n",
       "      <td>4.438</td>\n",
       "      <td>0.070</td>\n",
       "      <td>-0.210</td>\n",
       "      <td>1.046</td>\n",
       "      <td>0.334</td>\n",
       "      <td>-0.133</td>\n",
       "      <td>288.75488</td>\n",
       "      <td>48.226200</td>\n",
       "      <td>15.509</td>\n",
       "    </tr>\n",
       "    <tr>\n",
       "      <th>4</th>\n",
       "      <td>CONFIRMED</td>\n",
       "      <td>0</td>\n",
       "      <td>0</td>\n",
       "      <td>0</td>\n",
       "      <td>0</td>\n",
       "      <td>4.134435</td>\n",
       "      <td>1.050000e-05</td>\n",
       "      <td>-1.050000e-05</td>\n",
       "      <td>172.979370</td>\n",
       "      <td>0.001900</td>\n",
       "      <td>...</td>\n",
       "      <td>-232</td>\n",
       "      <td>4.486</td>\n",
       "      <td>0.054</td>\n",
       "      <td>-0.229</td>\n",
       "      <td>0.972</td>\n",
       "      <td>0.315</td>\n",
       "      <td>-0.105</td>\n",
       "      <td>296.28613</td>\n",
       "      <td>48.224670</td>\n",
       "      <td>15.714</td>\n",
       "    </tr>\n",
       "  </tbody>\n",
       "</table>\n",
       "<p>5 rows × 41 columns</p>\n",
       "</div>"
      ],
      "text/plain": [
       "  koi_disposition  koi_fpflag_nt  koi_fpflag_ss  koi_fpflag_co  koi_fpflag_ec  \\\n",
       "0       CONFIRMED              0              0              0              0   \n",
       "1  FALSE POSITIVE              0              1              0              0   \n",
       "2  FALSE POSITIVE              0              1              0              0   \n",
       "3       CONFIRMED              0              0              0              0   \n",
       "4       CONFIRMED              0              0              0              0   \n",
       "\n",
       "   koi_period  koi_period_err1  koi_period_err2  koi_time0bk  \\\n",
       "0   54.418383     2.479000e-04    -2.479000e-04   162.513840   \n",
       "1   19.899140     1.490000e-05    -1.490000e-05   175.850252   \n",
       "2    1.736952     2.630000e-07    -2.630000e-07   170.307565   \n",
       "3    2.525592     3.760000e-06    -3.760000e-06   171.595550   \n",
       "4    4.134435     1.050000e-05    -1.050000e-05   172.979370   \n",
       "\n",
       "   koi_time0bk_err1  ...  koi_steff_err2  koi_slogg  koi_slogg_err1  \\\n",
       "0          0.003520  ...             -81      4.467           0.064   \n",
       "1          0.000581  ...            -176      4.544           0.044   \n",
       "2          0.000115  ...            -174      4.564           0.053   \n",
       "3          0.001130  ...            -211      4.438           0.070   \n",
       "4          0.001900  ...            -232      4.486           0.054   \n",
       "\n",
       "   koi_slogg_err2  koi_srad  koi_srad_err1  koi_srad_err2         ra  \\\n",
       "0          -0.096     0.927          0.105         -0.061  291.93423   \n",
       "1          -0.176     0.868          0.233         -0.078  297.00482   \n",
       "2          -0.168     0.791          0.201         -0.067  285.53461   \n",
       "3          -0.210     1.046          0.334         -0.133  288.75488   \n",
       "4          -0.229     0.972          0.315         -0.105  296.28613   \n",
       "\n",
       "         dec  koi_kepmag  \n",
       "0  48.141651      15.347  \n",
       "1  48.134129      15.436  \n",
       "2  48.285210      15.597  \n",
       "3  48.226200      15.509  \n",
       "4  48.224670      15.714  \n",
       "\n",
       "[5 rows x 41 columns]"
      ]
     },
     "execution_count": 7,
     "metadata": {},
     "output_type": "execute_result"
    },
    {
     "data": {
      "text/plain": [
       "(6991, 41)"
      ]
     },
     "execution_count": 7,
     "metadata": {},
     "output_type": "execute_result"
    }
   ],
   "source": [
    "df = pd.read_csv(\"../Data/exoplanet_data.csv\")\n",
    "# Drop the null columns where all values are null\n",
    "df = df.dropna(axis='columns', how='all') #No null columns\n",
    "# Drop the null rows\n",
    "df = df.dropna() #No missing values\n",
    "df.head()\n",
    "df.shape"
   ]
  },
  {
   "cell_type": "markdown",
   "metadata": {},
   "source": [
    "## Data attributes and desctiption\n",
    "\n",
    "From [exoplanet archive](https://exoplanetarchive.ipac.caltech.edu/docs/API_kepcandidate_columns.html#pdisposition), the following descriptions are retrieved. `Kepler Object of Interest` is acronymed as `KOI`.\n",
    "\n",
    "1. koi_disposition : The category of this KOI from the Exoplanet Archive. Current values are CANDIDATE, FALSE POSITIVE, NOT DISPOSITIONED or CONFIRMED. (THIS is the target value)\n",
    "1. koi_fpflag_nt : Not Transit-Like Flag (A KOI whose light curve is not consistent with that of a transiting planet. This includes, but is not limited to, instrumental artifacts, non-eclipsing variable stars, and spurious (very low SNR) detections.) (Boolean)\n",
    "1. koi_fpflag_ss : Stellar Eclipse Flag. A KOI that is observed to have a significant secondary event, transit shape, or out-of-eclipse variability, which indicates that the transit-like event is most likely caused by an eclipsing binary. However, self-luminous, hot Jupiters with a visible secondary eclipse will also have this flag set, but with a disposition of PC. (Boolean)\n",
    "1. koi_fpflag_co : Centroid Offset Flag. The source of the signal is from a nearby star, as inferred by measuring the centroid location of the image both in and out of transit, or by the strength of the transit signal in the target's outer (halo) pixels as compared to the transit signal from the pixels in the optimal (or core) aperture. (Boolean)\n",
    "1. koi_fpflag_ec : Ephemeris Match Indicates Contamination Flag. The KOI shares the same period and epoch as another object and is judged to be the result of flux contamination in the aperture or electronic crosstalk. (Boolean)\n",
    "1. koi_period : Orbital Period (days). The interval between consecutive planetary transits. (float)\n",
    "1. koi_period_err1: koi period positive error bar (float)\n",
    "1. koi_period_err2: koi period negative error bar (float)\n",
    "1. koi_time0bk: Transit Epoch (BJD - 2,454,833.0). The time corresponding to the center of the first detected transit in Barycentric Julian Day (BJD) minus a constant offset of 2,454,833.0 days. The offset corresponds to 12:00 on Jan 1, 2009 UTC. (float)\n",
    "1. koi_time0bk_err1: koi time0bk positive error bar (float)\n",
    "1. koi_time0bk_err2: koi time0bk negative error bar (float)\n",
    "1. koi_impact: \tImpact Parameter. The sky-projected distance between the center of the stellar disc and the center of the planet disc at conjunction, normalized by the stellar radius. (float)\n",
    "1. koi_impact_err1: koi impact positive error bar (float)\n",
    "1. koi_impact_err2: koi impact negative error bar (float)\n",
    "1. koi_duration: Transit Duration (hours). The duration of the observed transits. Duration is measured from first contact between the planet and star until last contact. Contact times are typically computed from a best-fit model produced by a Mandel-Agol (2002) model fit to a multi-quarter Kepler light curve, assuming a linear orbital ephemeris. (float)\n",
    "1. koi_duration_err1: koi duration positive error bar (float)\n",
    "1. koi_duration_err2: koi duration negative error bar (float)\n",
    "1. koi_depth: Transit Depth (parts per million). The fraction of stellar flux lost at the minimum of the planetary transit. Transit depths are typically computed from a best-fit model produced by a Mandel-Agol (2002) model fit to a multi-quarter Kepler light curve, assuming a linear orbital ephemeris. (float)\n",
    "1. koi_depth_err1: koi depth positive error bar (float)\n",
    "1. koi_depth_err2: koi depth negative error bar (float)\n",
    "1. koi_prad: Planetary Radius (Earth radii). The radius of the planet. Planetary radius is the product of the planet star radius ratio and the stellar radius (float)\n",
    "1. koi_prad_err1: koi prad positive error bar (float)\n",
    "1. koi_prad_err2: koi prad negative error bar (float)\n",
    "1. koi_teq: Equilibrium Temperature (Kelvin). Approximation for the temperature of the planet. The calculation of equilibrium temperature assumes a) thermodynamic equilibrium between the incident stellar flux and the radiated heat from the planet, b) a Bond albedo (the fraction of total power incident upon the planet scattered back into space) of 0.3, c) the planet and star are blackbodies, and d) the heat is evenly distributed between the day and night sides of the planet. (int)\n",
    "1. koi_insol: Insolation Flux [Earth flux]: Insolation flux is another way to give the equilibrium temperature. It depends on the stellar parameters (specifically the stellar radius and temperature), and on the semi-major axis of the planet. It's given in units relative to those measured for the Earth from the Sun. (float)\n",
    "1. koi_insol_err1: koi insol positive error bar (float)\n",
    "1. koi_insol_err2: koi insol negative error bar (float)\n",
    "1. koi_model_snr: Transit Signal-to-Noise. Transit depth normalized by the mean uncertainty in the flux during the transits. (float)\n",
    "1. koi_tce_plnt_num: TCE Planet Number. TCE Planet Number federated to the KOI. (int)\n",
    "1. koi_steff: Stellar Effective Temperature (Kelvin). The photospheric temperature of the star. (int)\n",
    "1. koi_steff_err1: koi steff positive error bar (int)\n",
    "1. koi_steff_err2: koi steff negative error bar (int)\n",
    "1. koi_slogg: Stellar Surface Gravity (log10(cm s-2)). The base-10 logarithm of the acceleration due to gravity at the surface of the star. (float)\n",
    "1. koi_slogg_err1: koi slogg positive error bar (float)\n",
    "1. koi_slogg_err2: koi slogg negative error bar (float)\n",
    "1. koi_srad: Stellar Radius (solar radii). The photospheric radius of the star (float)\n",
    "1. koi_srad_err1: koi srad positive error bar (float)\n",
    "1. koi_srad_err2: koi srad negative error bar (float)\n",
    "1. ra: RA (deg): KIC Right Ascension (float)\n",
    "1. dec: Dec (deg). KIC Declination (float)\n",
    "1. koi_kepmag: Kepler-band (mag). Kepler-band (mag) (float)"
   ]
  },
  {
   "cell_type": "markdown",
   "metadata": {},
   "source": [
    "# Data Processing and Model Pipeline\n",
    "\n",
    "![pipeline](../Images/pipeline.png)"
   ]
  },
  {
   "cell_type": "markdown",
   "metadata": {},
   "source": [
    "## Train Test Split"
   ]
  },
  {
   "cell_type": "code",
   "execution_count": 8,
   "metadata": {},
   "outputs": [],
   "source": [
    "X = df[df.columns.difference(['koi_disposition'])]\n",
    "Y = df['koi_disposition']\n",
    "\n",
    "X_train, X_test, y_train, y_test = train_test_split(X, Y, random_state=seed)"
   ]
  },
  {
   "cell_type": "markdown",
   "metadata": {},
   "source": [
    "## Feature Selection\n",
    "\n",
    "https://machinelearningmastery.com/rfe-feature-selection-in-python/#:~:text=RFE%20is%20a%20wrapper%2Dtype%20feature%20selection%20algorithm.&text=This%20is%20achieved%20by%20fitting,specified%20number%20of%20features%20remains.\n",
    "\n",
    "**Approach**\n",
    "\n",
    "- Use RFE wrapper with Random Forest Estimator for feature selection.\n",
    "- Use repeated stratified k-fold cross-validation, with 3 repeats and 5 folds.\n",
    "- Use SVM classifier to train the data, and validate\n"
   ]
  },
  {
   "cell_type": "code",
   "execution_count": 4,
   "metadata": {},
   "outputs": [],
   "source": [
    "from sklearn.ensemble import RandomForestClassifier\n",
    "from sklearn.model_selection import RepeatedStratifiedKFold, cross_val_score\n",
    "from sklearn.feature_selection import RFE\n",
    "from sklearn.svm import SVC\n",
    "from sklearn.pipeline import Pipeline\n",
    "from sklearn.preprocessing import MinMaxScaler\n",
    "\n",
    "num_features = [1]+list(range(5,len(X_train.columns)+5,5))\n",
    "scores = []\n",
    "for no in num_features:\n",
    "    # create pipeline\n",
    "    scaler = MinMaxScaler()\n",
    "    rfe = RFE(estimator=RandomForestClassifier(n_estimators=100), n_features_to_select=no, verbose=5)\n",
    "    model = SVC(kernel='rbf', C=100)\n",
    "    pipeline = Pipeline(steps=[('scale', scaler), ('feature_selection',rfe),('model',model)])\n",
    "    # evaluate model\n",
    "    cv = RepeatedStratifiedKFold(n_splits=5, n_repeats=3)\n",
    "    n_scores = cross_val_score(pipeline, X_train, y_train, scoring='accuracy', cv=cv, n_jobs=-1, error_score='raise')\n",
    "    # Append the scores for the \"no\" of features\n",
    "    scores.append(n_scores)"
   ]
  },
  {
   "cell_type": "code",
   "execution_count": 5,
   "metadata": {},
   "outputs": [
    {
     "data": {
      "image/png": "[encoded data removed]",
      "text/plain": [
       "<Figure size 432x288 with 1 Axes>"
      ]
     },
     "metadata": {
      "needs_background": "light"
     },
     "output_type": "display_data"
    }
   ],
   "source": [
    "# plot model performance for comparison\n",
    "_=plt.boxplot(scores, labels=num_features, showmeans=True)\n",
    "_=plt.show()"
   ]
  },
  {
   "cell_type": "markdown",
   "metadata": {},
   "source": [
    "- 30 features looks like the right options as it is stable (less std deviation in accuracy of all models).\n",
    "- Also, the accuracy is similar to that of all features."
   ]
  },
  {
   "cell_type": "code",
   "execution_count": null,
   "metadata": {},
   "outputs": [],
   "source": [
    "# Sort all features based on importance (lower ranking => high importance)\n",
    "# rfe = RFE(estimator=RandomForestClassifier(n_estimators=100), n_features_to_select=1, verbose=5)\n",
    "# rfe.fit(X_train, y_train)\n",
    "# pd.DataFrame({'features':X.columns.to_list(), 'ranking':rfe.ranking_}).sort_values(by='ranking')"
   ]
  },
  {
   "cell_type": "markdown",
   "metadata": {},
   "source": [
    "- Based on grid search 30 features are being chosen\n",
    "\n",
    "- Selected features\n",
    "          ['dec', 'koi_depth', 'koi_depth_err1', 'koi_depth_err2', 'koi_duration',\n",
    "       'koi_duration_err1', 'koi_duration_err2', 'koi_fpflag_co',\n",
    "       'koi_fpflag_ec', 'koi_fpflag_nt', 'koi_fpflag_ss', 'koi_impact',\n",
    "       'koi_insol', 'koi_insol_err1', 'koi_insol_err2', 'koi_kepmag',\n",
    "       'koi_model_snr', 'koi_period', 'koi_period_err1', 'koi_period_err2',\n",
    "       'koi_prad', 'koi_prad_err1', 'koi_prad_err2', 'koi_steff_err1',\n",
    "       'koi_steff_err2', 'koi_teq', 'koi_time0bk', 'koi_time0bk_err1',\n",
    "       'koi_time0bk_err2', 'ra']"
   ]
  },
  {
   "cell_type": "code",
   "execution_count": 9,
   "metadata": {},
   "outputs": [
    {
     "name": "stdout",
     "output_type": "stream",
     "text": [
      "Fitting estimator with 40 features.\n",
      "Fitting estimator with 39 features.\n",
      "Fitting estimator with 38 features.\n",
      "Fitting estimator with 37 features.\n",
      "Fitting estimator with 36 features.\n",
      "Fitting estimator with 35 features.\n",
      "Fitting estimator with 34 features.\n",
      "Fitting estimator with 33 features.\n",
      "Fitting estimator with 32 features.\n",
      "Fitting estimator with 31 features.\n"
     ]
    },
    {
     "data": {
      "text/plain": [
       "RFE(estimator=RandomForestClassifier(), n_features_to_select=30, verbose=5)"
      ]
     },
     "execution_count": 9,
     "metadata": {},
     "output_type": "execute_result"
    }
   ],
   "source": [
    "rfe = RFE(estimator=RandomForestClassifier(n_estimators=100), n_features_to_select=30, verbose=5)\n",
    "rfe.fit(X_train, y_train)"
   ]
  },
  {
   "cell_type": "code",
   "execution_count": 10,
   "metadata": {},
   "outputs": [],
   "source": [
    "#X_train.columns[rfe.support_]\n",
    "X_train = X_train[X_train.columns[rfe.support_]]\n",
    "X_test = X_test[X_test.columns[rfe.support_]]"
   ]
  },
  {
   "cell_type": "markdown",
   "metadata": {},
   "source": [
    "# SVM without Fine Tuning"
   ]
  },
  {
   "cell_type": "code",
   "execution_count": 11,
   "metadata": {},
   "outputs": [
    {
     "data": {
      "text/plain": [
       "Pipeline(steps=[('scale', MinMaxScaler()),\n",
       "                ('model', SVC(class_weight='balanced'))])"
      ]
     },
     "execution_count": 11,
     "metadata": {},
     "output_type": "execute_result"
    }
   ],
   "source": [
    "# create pipeline\n",
    "scaler = MinMaxScaler()\n",
    "#rfe = RFE(estimator=RandomForestClassifier(n_estimators=100), n_features_to_select=30, verbose=5)\n",
    "model = SVC(class_weight = 'balanced')\n",
    "pipeline = Pipeline(steps=[('scale', scaler), ('model',model)])\n",
    "\n",
    "pipeline.fit(X_train, y_train)\n"
   ]
  },
  {
   "cell_type": "code",
   "execution_count": 12,
   "metadata": {},
   "outputs": [
    {
     "name": "stdout",
     "output_type": "stream",
     "text": [
      "Train accuracy : 0.841502956322716\n",
      "Test accuracy : 0.834096109839817\n"
     ]
    }
   ],
   "source": [
    "print(f\"Train accuracy : {pipeline.score(X_train, y_train)}\")\n",
    "print(f\"Test accuracy : {pipeline.score(X_test, y_test)}\")"
   ]
  },
  {
   "cell_type": "markdown",
   "metadata": {},
   "source": [
    "# GridSearch CV to tune SVM parameters\n",
    "\n",
    "- Mainly 3 parameters to tune in SVM\n",
    "    - kernel\n",
    "    - C (Regularization) Lower C => Simpler bounderines\n",
    "    - Gamma (How far datapoints influences the hyperplane support vectors ?) Higher Gamma => Complicated boundary\n",
    "      The behavior of the model is very sensitive to the gamma parameter. If gamma is too large, the radius of the area of influence of the support vectors only includes the support vector itself and no amount of regularization with C will be able to prevent overfitting."
   ]
  },
  {
   "cell_type": "code",
   "execution_count": 22,
   "metadata": {},
   "outputs": [
    {
     "name": "stdout",
     "output_type": "stream",
     "text": [
      "Fitting 5 folds for each of 24 candidates, totalling 120 fits\n",
      "[CV] model__C=1, model__gamma=scale, model__kernel=poly ..............\n"
     ]
    },
    {
     "name": "stderr",
     "output_type": "stream",
     "text": [
      "[Parallel(n_jobs=1)]: Using backend SequentialBackend with 1 concurrent workers.\n"
     ]
    },
    {
     "name": "stdout",
     "output_type": "stream",
     "text": [
      "[CV]  model__C=1, model__gamma=scale, model__kernel=poly, score=0.850, total=   0.4s\n",
      "[CV] model__C=1, model__gamma=scale, model__kernel=poly ..............\n"
     ]
    },
    {
     "name": "stderr",
     "output_type": "stream",
     "text": [
      "[Parallel(n_jobs=1)]: Done   1 out of   1 | elapsed:    0.4s remaining:    0.0s\n"
     ]
    },
    {
     "name": "stdout",
     "output_type": "stream",
     "text": [
      "[CV]  model__C=1, model__gamma=scale, model__kernel=poly, score=0.846, total=   0.4s\n",
      "[CV] model__C=1, model__gamma=scale, model__kernel=poly ..............\n"
     ]
    },
    {
     "name": "stderr",
     "output_type": "stream",
     "text": [
      "[Parallel(n_jobs=1)]: Done   2 out of   2 | elapsed:    0.9s remaining:    0.0s\n"
     ]
    },
    {
     "name": "stdout",
     "output_type": "stream",
     "text": [
      "[CV]  model__C=1, model__gamma=scale, model__kernel=poly, score=0.848, total=   0.4s\n",
      "[CV] model__C=1, model__gamma=scale, model__kernel=poly ..............\n"
     ]
    },
    {
     "name": "stderr",
     "output_type": "stream",
     "text": [
      "[Parallel(n_jobs=1)]: Done   3 out of   3 | elapsed:    1.2s remaining:    0.0s\n"
     ]
    },
    {
     "name": "stdout",
     "output_type": "stream",
     "text": [
      "[CV]  model__C=1, model__gamma=scale, model__kernel=poly, score=0.860, total=   0.4s\n",
      "[CV] model__C=1, model__gamma=scale, model__kernel=poly ..............\n"
     ]
    },
    {
     "name": "stderr",
     "output_type": "stream",
     "text": [
      "[Parallel(n_jobs=1)]: Done   4 out of   4 | elapsed:    1.6s remaining:    0.0s\n"
     ]
    },
    {
     "name": "stdout",
     "output_type": "stream",
     "text": [
      "[CV]  model__C=1, model__gamma=scale, model__kernel=poly, score=0.861, total=   0.4s\n",
      "[CV] model__C=1, model__gamma=scale, model__kernel=linear ............\n",
      "[CV]  model__C=1, model__gamma=scale, model__kernel=linear, score=0.846, total=   0.3s\n",
      "[CV] model__C=1, model__gamma=scale, model__kernel=linear ............\n",
      "[CV]  model__C=1, model__gamma=scale, model__kernel=linear, score=0.842, total=   0.4s\n",
      "[CV] model__C=1, model__gamma=scale, model__kernel=linear ............\n",
      "[CV]  model__C=1, model__gamma=scale, model__kernel=linear, score=0.845, total=   0.4s\n",
      "[CV] model__C=1, model__gamma=scale, model__kernel=linear ............\n",
      "[CV]  model__C=1, model__gamma=scale, model__kernel=linear, score=0.857, total=   0.4s\n",
      "[CV] model__C=1, model__gamma=scale, model__kernel=linear ............\n",
      "[CV]  model__C=1, model__gamma=scale, model__kernel=linear, score=0.857, total=   0.3s\n",
      "[CV] model__C=1, model__gamma=scale, model__kernel=rbf ...............\n",
      "[CV]  model__C=1, model__gamma=scale, model__kernel=rbf, score=0.834, total=   0.5s\n",
      "[CV] model__C=1, model__gamma=scale, model__kernel=rbf ...............\n",
      "[CV]  model__C=1, model__gamma=scale, model__kernel=rbf, score=0.829, total=   0.5s\n",
      "[CV] model__C=1, model__gamma=scale, model__kernel=rbf ...............\n",
      "[CV]  model__C=1, model__gamma=scale, model__kernel=rbf, score=0.838, total=   0.5s\n",
      "[CV] model__C=1, model__gamma=scale, model__kernel=rbf ...............\n",
      "[CV]  model__C=1, model__gamma=scale, model__kernel=rbf, score=0.849, total=   0.5s\n",
      "[CV] model__C=1, model__gamma=scale, model__kernel=rbf ...............\n",
      "[CV]  model__C=1, model__gamma=scale, model__kernel=rbf, score=0.846, total=   0.5s\n",
      "[CV] model__C=1, model__gamma=0.1, model__kernel=poly ................\n",
      "[CV]  model__C=1, model__gamma=0.1, model__kernel=poly, score=0.833, total=   0.4s\n",
      "[CV] model__C=1, model__gamma=0.1, model__kernel=poly ................\n",
      "[CV]  model__C=1, model__gamma=0.1, model__kernel=poly, score=0.820, total=   0.4s\n",
      "[CV] model__C=1, model__gamma=0.1, model__kernel=poly ................\n",
      "[CV]  model__C=1, model__gamma=0.1, model__kernel=poly, score=0.840, total=   0.4s\n",
      "[CV] model__C=1, model__gamma=0.1, model__kernel=poly ................\n",
      "[CV]  model__C=1, model__gamma=0.1, model__kernel=poly, score=0.839, total=   0.4s\n",
      "[CV] model__C=1, model__gamma=0.1, model__kernel=poly ................\n",
      "[CV]  model__C=1, model__gamma=0.1, model__kernel=poly, score=0.843, total=   0.4s\n",
      "[CV] model__C=1, model__gamma=0.1, model__kernel=linear ..............\n",
      "[CV]  model__C=1, model__gamma=0.1, model__kernel=linear, score=0.846, total=   0.3s\n",
      "[CV] model__C=1, model__gamma=0.1, model__kernel=linear ..............\n",
      "[CV]  model__C=1, model__gamma=0.1, model__kernel=linear, score=0.842, total=   0.3s\n",
      "[CV] model__C=1, model__gamma=0.1, model__kernel=linear ..............\n",
      "[CV]  model__C=1, model__gamma=0.1, model__kernel=linear, score=0.845, total=   0.4s\n",
      "[CV] model__C=1, model__gamma=0.1, model__kernel=linear ..............\n",
      "[CV]  model__C=1, model__gamma=0.1, model__kernel=linear, score=0.857, total=   0.3s\n",
      "[CV] model__C=1, model__gamma=0.1, model__kernel=linear ..............\n",
      "[CV]  model__C=1, model__gamma=0.1, model__kernel=linear, score=0.857, total=   0.3s\n",
      "[CV] model__C=1, model__gamma=0.1, model__kernel=rbf .................\n",
      "[CV]  model__C=1, model__gamma=0.1, model__kernel=rbf, score=0.833, total=   0.5s\n",
      "[CV] model__C=1, model__gamma=0.1, model__kernel=rbf .................\n",
      "[CV]  model__C=1, model__gamma=0.1, model__kernel=rbf, score=0.820, total=   0.5s\n",
      "[CV] model__C=1, model__gamma=0.1, model__kernel=rbf .................\n",
      "[CV]  model__C=1, model__gamma=0.1, model__kernel=rbf, score=0.837, total=   0.5s\n",
      "[CV] model__C=1, model__gamma=0.1, model__kernel=rbf .................\n",
      "[CV]  model__C=1, model__gamma=0.1, model__kernel=rbf, score=0.841, total=   0.5s\n",
      "[CV] model__C=1, model__gamma=0.1, model__kernel=rbf .................\n",
      "[CV]  model__C=1, model__gamma=0.1, model__kernel=rbf, score=0.841, total=   0.5s\n",
      "[CV] model__C=5, model__gamma=scale, model__kernel=poly ..............\n",
      "[CV]  model__C=5, model__gamma=scale, model__kernel=poly, score=0.867, total=   0.4s\n",
      "[CV] model__C=5, model__gamma=scale, model__kernel=poly ..............\n",
      "[CV]  model__C=5, model__gamma=scale, model__kernel=poly, score=0.865, total=   0.4s\n",
      "[CV] model__C=5, model__gamma=scale, model__kernel=poly ..............\n",
      "[CV]  model__C=5, model__gamma=scale, model__kernel=poly, score=0.862, total=   0.5s\n",
      "[CV] model__C=5, model__gamma=scale, model__kernel=poly ..............\n",
      "[CV]  model__C=5, model__gamma=scale, model__kernel=poly, score=0.885, total=   0.4s\n",
      "[CV] model__C=5, model__gamma=scale, model__kernel=poly ..............\n",
      "[CV]  model__C=5, model__gamma=scale, model__kernel=poly, score=0.878, total=   0.4s\n",
      "[CV] model__C=5, model__gamma=scale, model__kernel=linear ............\n",
      "[CV]  model__C=5, model__gamma=scale, model__kernel=linear, score=0.867, total=   0.4s\n",
      "[CV] model__C=5, model__gamma=scale, model__kernel=linear ............\n",
      "[CV]  model__C=5, model__gamma=scale, model__kernel=linear, score=0.871, total=   0.4s\n",
      "[CV] model__C=5, model__gamma=scale, model__kernel=linear ............\n",
      "[CV]  model__C=5, model__gamma=scale, model__kernel=linear, score=0.867, total=   0.9s\n",
      "[CV] model__C=5, model__gamma=scale, model__kernel=linear ............\n",
      "[CV]  model__C=5, model__gamma=scale, model__kernel=linear, score=0.885, total=   0.6s\n",
      "[CV] model__C=5, model__gamma=scale, model__kernel=linear ............\n",
      "[CV]  model__C=5, model__gamma=scale, model__kernel=linear, score=0.871, total=   0.4s\n",
      "[CV] model__C=5, model__gamma=scale, model__kernel=rbf ...............\n",
      "[CV]  model__C=5, model__gamma=scale, model__kernel=rbf, score=0.855, total=   0.5s\n",
      "[CV] model__C=5, model__gamma=scale, model__kernel=rbf ...............\n",
      "[CV]  model__C=5, model__gamma=scale, model__kernel=rbf, score=0.847, total=   0.5s\n",
      "[CV] model__C=5, model__gamma=scale, model__kernel=rbf ...............\n",
      "[CV]  model__C=5, model__gamma=scale, model__kernel=rbf, score=0.855, total=   0.5s\n",
      "[CV] model__C=5, model__gamma=scale, model__kernel=rbf ...............\n",
      "[CV]  model__C=5, model__gamma=scale, model__kernel=rbf, score=0.869, total=   0.5s\n",
      "[CV] model__C=5, model__gamma=scale, model__kernel=rbf ...............\n",
      "[CV]  model__C=5, model__gamma=scale, model__kernel=rbf, score=0.869, total=   0.5s\n",
      "[CV] model__C=5, model__gamma=0.1, model__kernel=poly ................\n",
      "[CV]  model__C=5, model__gamma=0.1, model__kernel=poly, score=0.847, total=   0.4s\n",
      "[CV] model__C=5, model__gamma=0.1, model__kernel=poly ................\n",
      "[CV]  model__C=5, model__gamma=0.1, model__kernel=poly, score=0.843, total=   0.4s\n",
      "[CV] model__C=5, model__gamma=0.1, model__kernel=poly ................\n",
      "[CV]  model__C=5, model__gamma=0.1, model__kernel=poly, score=0.846, total=   0.4s\n",
      "[CV] model__C=5, model__gamma=0.1, model__kernel=poly ................\n",
      "[CV]  model__C=5, model__gamma=0.1, model__kernel=poly, score=0.854, total=   0.4s\n",
      "[CV] model__C=5, model__gamma=0.1, model__kernel=poly ................\n",
      "[CV]  model__C=5, model__gamma=0.1, model__kernel=poly, score=0.854, total=   0.4s\n",
      "[CV] model__C=5, model__gamma=0.1, model__kernel=linear ..............\n",
      "[CV]  model__C=5, model__gamma=0.1, model__kernel=linear, score=0.867, total=   0.3s\n",
      "[CV] model__C=5, model__gamma=0.1, model__kernel=linear ..............\n",
      "[CV]  model__C=5, model__gamma=0.1, model__kernel=linear, score=0.871, total=   0.3s\n",
      "[CV] model__C=5, model__gamma=0.1, model__kernel=linear ..............\n",
      "[CV]  model__C=5, model__gamma=0.1, model__kernel=linear, score=0.867, total=   0.4s\n",
      "[CV] model__C=5, model__gamma=0.1, model__kernel=linear ..............\n",
      "[CV]  model__C=5, model__gamma=0.1, model__kernel=linear, score=0.885, total=   0.4s\n",
      "[CV] model__C=5, model__gamma=0.1, model__kernel=linear ..............\n",
      "[CV]  model__C=5, model__gamma=0.1, model__kernel=linear, score=0.871, total=   0.3s\n",
      "[CV] model__C=5, model__gamma=0.1, model__kernel=rbf .................\n",
      "[CV]  model__C=5, model__gamma=0.1, model__kernel=rbf, score=0.843, total=   0.5s\n",
      "[CV] model__C=5, model__gamma=0.1, model__kernel=rbf .................\n",
      "[CV]  model__C=5, model__gamma=0.1, model__kernel=rbf, score=0.846, total=   0.5s\n",
      "[CV] model__C=5, model__gamma=0.1, model__kernel=rbf .................\n"
     ]
    },
    {
     "name": "stdout",
     "output_type": "stream",
     "text": [
      "[CV]  model__C=5, model__gamma=0.1, model__kernel=rbf, score=0.846, total=   0.5s\n",
      "[CV] model__C=5, model__gamma=0.1, model__kernel=rbf .................\n",
      "[CV]  model__C=5, model__gamma=0.1, model__kernel=rbf, score=0.859, total=   0.5s\n",
      "[CV] model__C=5, model__gamma=0.1, model__kernel=rbf .................\n",
      "[CV]  model__C=5, model__gamma=0.1, model__kernel=rbf, score=0.857, total=   0.5s\n",
      "[CV] model__C=10, model__gamma=scale, model__kernel=poly .............\n",
      "[CV]  model__C=10, model__gamma=scale, model__kernel=poly, score=0.869, total=   0.4s\n",
      "[CV] model__C=10, model__gamma=scale, model__kernel=poly .............\n",
      "[CV]  model__C=10, model__gamma=scale, model__kernel=poly, score=0.872, total=   0.4s\n",
      "[CV] model__C=10, model__gamma=scale, model__kernel=poly .............\n",
      "[CV]  model__C=10, model__gamma=scale, model__kernel=poly, score=0.870, total=   0.4s\n",
      "[CV] model__C=10, model__gamma=scale, model__kernel=poly .............\n",
      "[CV]  model__C=10, model__gamma=scale, model__kernel=poly, score=0.887, total=   0.4s\n",
      "[CV] model__C=10, model__gamma=scale, model__kernel=poly .............\n",
      "[CV]  model__C=10, model__gamma=scale, model__kernel=poly, score=0.883, total=   0.4s\n",
      "[CV] model__C=10, model__gamma=scale, model__kernel=linear ...........\n",
      "[CV]  model__C=10, model__gamma=scale, model__kernel=linear, score=0.871, total=   0.4s\n",
      "[CV] model__C=10, model__gamma=scale, model__kernel=linear ...........\n",
      "[CV]  model__C=10, model__gamma=scale, model__kernel=linear, score=0.879, total=   0.4s\n",
      "[CV] model__C=10, model__gamma=scale, model__kernel=linear ...........\n",
      "[CV]  model__C=10, model__gamma=scale, model__kernel=linear, score=0.873, total=   0.4s\n",
      "[CV] model__C=10, model__gamma=scale, model__kernel=linear ...........\n",
      "[CV]  model__C=10, model__gamma=scale, model__kernel=linear, score=0.889, total=   0.4s\n",
      "[CV] model__C=10, model__gamma=scale, model__kernel=linear ...........\n",
      "[CV]  model__C=10, model__gamma=scale, model__kernel=linear, score=0.877, total=   0.3s\n",
      "[CV] model__C=10, model__gamma=scale, model__kernel=rbf ..............\n",
      "[CV]  model__C=10, model__gamma=scale, model__kernel=rbf, score=0.862, total=   0.5s\n",
      "[CV] model__C=10, model__gamma=scale, model__kernel=rbf ..............\n",
      "[CV]  model__C=10, model__gamma=scale, model__kernel=rbf, score=0.857, total=   0.5s\n",
      "[CV] model__C=10, model__gamma=scale, model__kernel=rbf ..............\n",
      "[CV]  model__C=10, model__gamma=scale, model__kernel=rbf, score=0.860, total=   0.4s\n",
      "[CV] model__C=10, model__gamma=scale, model__kernel=rbf ..............\n",
      "[CV]  model__C=10, model__gamma=scale, model__kernel=rbf, score=0.878, total=   0.5s\n",
      "[CV] model__C=10, model__gamma=scale, model__kernel=rbf ..............\n",
      "[CV]  model__C=10, model__gamma=scale, model__kernel=rbf, score=0.872, total=   0.5s\n",
      "[CV] model__C=10, model__gamma=0.1, model__kernel=poly ...............\n",
      "[CV]  model__C=10, model__gamma=0.1, model__kernel=poly, score=0.850, total=   0.4s\n",
      "[CV] model__C=10, model__gamma=0.1, model__kernel=poly ...............\n",
      "[CV]  model__C=10, model__gamma=0.1, model__kernel=poly, score=0.848, total=   0.4s\n",
      "[CV] model__C=10, model__gamma=0.1, model__kernel=poly ...............\n",
      "[CV]  model__C=10, model__gamma=0.1, model__kernel=poly, score=0.858, total=   0.5s\n",
      "[CV] model__C=10, model__gamma=0.1, model__kernel=poly ...............\n",
      "[CV]  model__C=10, model__gamma=0.1, model__kernel=poly, score=0.866, total=   0.4s\n",
      "[CV] model__C=10, model__gamma=0.1, model__kernel=poly ...............\n",
      "[CV]  model__C=10, model__gamma=0.1, model__kernel=poly, score=0.863, total=   0.4s\n",
      "[CV] model__C=10, model__gamma=0.1, model__kernel=linear .............\n",
      "[CV]  model__C=10, model__gamma=0.1, model__kernel=linear, score=0.871, total=   0.4s\n",
      "[CV] model__C=10, model__gamma=0.1, model__kernel=linear .............\n",
      "[CV]  model__C=10, model__gamma=0.1, model__kernel=linear, score=0.879, total=   0.4s\n",
      "[CV] model__C=10, model__gamma=0.1, model__kernel=linear .............\n",
      "[CV]  model__C=10, model__gamma=0.1, model__kernel=linear, score=0.873, total=   0.4s\n",
      "[CV] model__C=10, model__gamma=0.1, model__kernel=linear .............\n",
      "[CV]  model__C=10, model__gamma=0.1, model__kernel=linear, score=0.889, total=   0.6s\n",
      "[CV] model__C=10, model__gamma=0.1, model__kernel=linear .............\n",
      "[CV]  model__C=10, model__gamma=0.1, model__kernel=linear, score=0.877, total=   0.8s\n",
      "[CV] model__C=10, model__gamma=0.1, model__kernel=rbf ................\n",
      "[CV]  model__C=10, model__gamma=0.1, model__kernel=rbf, score=0.853, total=   0.7s\n",
      "[CV] model__C=10, model__gamma=0.1, model__kernel=rbf ................\n",
      "[CV]  model__C=10, model__gamma=0.1, model__kernel=rbf, score=0.850, total=   0.5s\n",
      "[CV] model__C=10, model__gamma=0.1, model__kernel=rbf ................\n",
      "[CV]  model__C=10, model__gamma=0.1, model__kernel=rbf, score=0.859, total=   0.5s\n",
      "[CV] model__C=10, model__gamma=0.1, model__kernel=rbf ................\n",
      "[CV]  model__C=10, model__gamma=0.1, model__kernel=rbf, score=0.872, total=   0.5s\n",
      "[CV] model__C=10, model__gamma=0.1, model__kernel=rbf ................\n",
      "[CV]  model__C=10, model__gamma=0.1, model__kernel=rbf, score=0.868, total=   0.5s\n",
      "[CV] model__C=100, model__gamma=scale, model__kernel=poly ............\n",
      "[CV]  model__C=100, model__gamma=scale, model__kernel=poly, score=0.878, total=   0.5s\n",
      "[CV] model__C=100, model__gamma=scale, model__kernel=poly ............\n",
      "[CV]  model__C=100, model__gamma=scale, model__kernel=poly, score=0.892, total=   0.5s\n",
      "[CV] model__C=100, model__gamma=scale, model__kernel=poly ............\n",
      "[CV]  model__C=100, model__gamma=scale, model__kernel=poly, score=0.879, total=   0.5s\n",
      "[CV] model__C=100, model__gamma=scale, model__kernel=poly ............\n",
      "[CV]  model__C=100, model__gamma=scale, model__kernel=poly, score=0.884, total=   0.7s\n",
      "[CV] model__C=100, model__gamma=scale, model__kernel=poly ............\n",
      "[CV]  model__C=100, model__gamma=scale, model__kernel=poly, score=0.887, total=   0.4s\n",
      "[CV] model__C=100, model__gamma=scale, model__kernel=linear ..........\n",
      "[CV]  model__C=100, model__gamma=scale, model__kernel=linear, score=0.881, total=   0.6s\n",
      "[CV] model__C=100, model__gamma=scale, model__kernel=linear ..........\n",
      "[CV]  model__C=100, model__gamma=scale, model__kernel=linear, score=0.893, total=   0.7s\n",
      "[CV] model__C=100, model__gamma=scale, model__kernel=linear ..........\n",
      "[CV]  model__C=100, model__gamma=scale, model__kernel=linear, score=0.880, total=   0.5s\n",
      "[CV] model__C=100, model__gamma=scale, model__kernel=linear ..........\n",
      "[CV]  model__C=100, model__gamma=scale, model__kernel=linear, score=0.895, total=   0.8s\n",
      "[CV] model__C=100, model__gamma=scale, model__kernel=linear ..........\n",
      "[CV]  model__C=100, model__gamma=scale, model__kernel=linear, score=0.888, total=   0.6s\n",
      "[CV] model__C=100, model__gamma=scale, model__kernel=rbf .............\n",
      "[CV]  model__C=100, model__gamma=scale, model__kernel=rbf, score=0.874, total=   0.5s\n",
      "[CV] model__C=100, model__gamma=scale, model__kernel=rbf .............\n",
      "[CV]  model__C=100, model__gamma=scale, model__kernel=rbf, score=0.890, total=   0.5s\n",
      "[CV] model__C=100, model__gamma=scale, model__kernel=rbf .............\n",
      "[CV]  model__C=100, model__gamma=scale, model__kernel=rbf, score=0.880, total=   0.5s\n",
      "[CV] model__C=100, model__gamma=scale, model__kernel=rbf .............\n",
      "[CV]  model__C=100, model__gamma=scale, model__kernel=rbf, score=0.885, total=   0.4s\n",
      "[CV] model__C=100, model__gamma=scale, model__kernel=rbf .............\n",
      "[CV]  model__C=100, model__gamma=scale, model__kernel=rbf, score=0.887, total=   0.4s\n",
      "[CV] model__C=100, model__gamma=0.1, model__kernel=poly ..............\n",
      "[CV]  model__C=100, model__gamma=0.1, model__kernel=poly, score=0.868, total=   0.4s\n",
      "[CV] model__C=100, model__gamma=0.1, model__kernel=poly ..............\n",
      "[CV]  model__C=100, model__gamma=0.1, model__kernel=poly, score=0.875, total=   0.4s\n",
      "[CV] model__C=100, model__gamma=0.1, model__kernel=poly ..............\n",
      "[CV]  model__C=100, model__gamma=0.1, model__kernel=poly, score=0.880, total=   0.3s\n",
      "[CV] model__C=100, model__gamma=0.1, model__kernel=poly ..............\n",
      "[CV]  model__C=100, model__gamma=0.1, model__kernel=poly, score=0.890, total=   0.3s\n",
      "[CV] model__C=100, model__gamma=0.1, model__kernel=poly ..............\n",
      "[CV]  model__C=100, model__gamma=0.1, model__kernel=poly, score=0.890, total=   0.3s\n",
      "[CV] model__C=100, model__gamma=0.1, model__kernel=linear ............\n"
     ]
    },
    {
     "name": "stdout",
     "output_type": "stream",
     "text": [
      "[CV]  model__C=100, model__gamma=0.1, model__kernel=linear, score=0.881, total=   0.6s\n",
      "[CV] model__C=100, model__gamma=0.1, model__kernel=linear ............\n",
      "[CV]  model__C=100, model__gamma=0.1, model__kernel=linear, score=0.893, total=   0.8s\n",
      "[CV] model__C=100, model__gamma=0.1, model__kernel=linear ............\n",
      "[CV]  model__C=100, model__gamma=0.1, model__kernel=linear, score=0.880, total=   0.5s\n",
      "[CV] model__C=100, model__gamma=0.1, model__kernel=linear ............\n",
      "[CV]  model__C=100, model__gamma=0.1, model__kernel=linear, score=0.895, total=   0.8s\n",
      "[CV] model__C=100, model__gamma=0.1, model__kernel=linear ............\n",
      "[CV]  model__C=100, model__gamma=0.1, model__kernel=linear, score=0.888, total=   0.5s\n",
      "[CV] model__C=100, model__gamma=0.1, model__kernel=rbf ...............\n",
      "[CV]  model__C=100, model__gamma=0.1, model__kernel=rbf, score=0.868, total=   0.5s\n",
      "[CV] model__C=100, model__gamma=0.1, model__kernel=rbf ...............\n",
      "[CV]  model__C=100, model__gamma=0.1, model__kernel=rbf, score=0.875, total=   0.4s\n",
      "[CV] model__C=100, model__gamma=0.1, model__kernel=rbf ...............\n",
      "[CV]  model__C=100, model__gamma=0.1, model__kernel=rbf, score=0.882, total=   0.4s\n",
      "[CV] model__C=100, model__gamma=0.1, model__kernel=rbf ...............\n",
      "[CV]  model__C=100, model__gamma=0.1, model__kernel=rbf, score=0.889, total=   0.4s\n",
      "[CV] model__C=100, model__gamma=0.1, model__kernel=rbf ...............\n",
      "[CV]  model__C=100, model__gamma=0.1, model__kernel=rbf, score=0.886, total=   0.4s\n"
     ]
    },
    {
     "name": "stderr",
     "output_type": "stream",
     "text": [
      "[Parallel(n_jobs=1)]: Done 120 out of 120 | elapsed:   54.6s finished\n"
     ]
    },
    {
     "data": {
      "text/plain": [
       "GridSearchCV(cv=5,\n",
       "             estimator=Pipeline(steps=[('scale', MinMaxScaler()),\n",
       "                                       ('model',\n",
       "                                        SVC(class_weight='balanced'))]),\n",
       "             param_grid={'model__C': [1, 5, 10, 100],\n",
       "                         'model__gamma': ['scale', 0.1],\n",
       "                         'model__kernel': ['poly', 'linear', 'rbf']},\n",
       "             scoring='accuracy', verbose=5)"
      ]
     },
     "execution_count": 22,
     "metadata": {},
     "output_type": "execute_result"
    }
   ],
   "source": [
    "from sklearn.model_selection import GridSearchCV\n",
    "param_grid = {'model__C': [1, 5, 10, 100],\n",
    "              'model__gamma': ['scale', 0.1], #if gamma='scale' (default) is passed then it uses 1 / (n_features * X.var()) as value of gamma, \n",
    "                                                                #if ‘auto’, uses 1 / n_features.\n",
    "              'model__kernel': ['poly','linear', 'rbf']\n",
    "               }\n",
    "\n",
    "# create pipeline\n",
    "scaler = MinMaxScaler()\n",
    "#rfe = RFE(estimator=RandomForestClassifier(n_estimators=100), n_features_to_select=30, verbose=5)\n",
    "model = SVC(class_weight = 'balanced') #Multipliers of parameter C for each class. Computed based on the class_weight parameter.\n",
    "pipeline = Pipeline(steps=[('scale', scaler), ('model',model)])\n",
    "\n",
    "gcv = GridSearchCV(\n",
    "        pipeline, \n",
    "        param_grid,\n",
    "        cv=5,\n",
    "        scoring = 'accuracy',\n",
    "        verbose=5\n",
    "    )\n",
    "\n",
    "gcv.fit(X_train, y_train) \n"
   ]
  },
  {
   "cell_type": "code",
   "execution_count": 24,
   "metadata": {},
   "outputs": [
    {
     "data": {
      "text/plain": [
       "{'model__C': 100, 'model__gamma': 'scale', 'model__kernel': 'linear'}"
      ]
     },
     "execution_count": 24,
     "metadata": {},
     "output_type": "execute_result"
    },
    {
     "data": {
      "text/plain": [
       "0.8874706190555891"
      ]
     },
     "execution_count": 24,
     "metadata": {},
     "output_type": "execute_result"
    }
   ],
   "source": [
    "#pipeline.get_params().keys()\n",
    "gcv.best_params_\n",
    "gcv.best_score_\n",
    "#{'model__C': 100, 'model__gamma': 'scale', 'model__kernel': 'linear'}\n",
    "#0.8874706190555891"
   ]
  },
  {
   "cell_type": "markdown",
   "metadata": {},
   "source": [
    "## Evaluate the final model on test data"
   ]
  },
  {
   "cell_type": "code",
   "execution_count": 74,
   "metadata": {},
   "outputs": [
    {
     "data": {
      "text/plain": [
       "MinMaxScaler()"
      ]
     },
     "execution_count": 74,
     "metadata": {},
     "output_type": "execute_result"
    },
    {
     "data": {
      "text/plain": [
       "SVC(C=100, class_weight='balanced', kernel='linear')"
      ]
     },
     "execution_count": 74,
     "metadata": {},
     "output_type": "execute_result"
    },
    {
     "name": "stdout",
     "output_type": "stream",
     "text": [
      "Accuracy: 0.883\n"
     ]
    },
    {
     "data": {
      "text/plain": [
       "<sklearn.metrics._plot.confusion_matrix.ConfusionMatrixDisplay at 0x7fa2216c5ee0>"
      ]
     },
     "execution_count": 74,
     "metadata": {},
     "output_type": "execute_result"
    },
    {
     "data": {
      "text/plain": [
       "Text(0.5, 1.0, 'Confusion Matrix (Test Data) of SVM')"
      ]
     },
     "execution_count": 74,
     "metadata": {},
     "output_type": "execute_result"
    },
    {
     "data": {
      "image/png": "[encoded data removed]",
      "text/plain": [
       "<Figure size 432x288 with 2 Axes>"
      ]
     },
     "metadata": {
      "needs_background": "light"
     },
     "output_type": "display_data"
    }
   ],
   "source": [
    "# rfe = RFE(estimator=RandomForestClassifier(n_estimators=100), n_features_to_select=30, verbose=5)\n",
    "# rfe.fit(X_train, y_train)\n",
    "# X_train_selected_features = rfe.transform(X_train)\n",
    "\n",
    "scaler = MinMaxScaler()\n",
    "scaler.fit(X_train)\n",
    "X_train_scaled = scaler.transform(X_train)\n",
    "\n",
    "model = SVC(class_weight = 'balanced', C = 100, gamma = 'scale', kernel = 'linear') #gamma is not applicable to linear kernel\n",
    "model.fit(X_train_scaled, y_train)\n",
    "\n",
    "#On test\n",
    "X_test_scaled = scaler.transform(X_test)\n",
    "y_pred = model.predict(X_test_scaled)\n",
    "\n",
    "#Final test accuracy\n",
    "print('Accuracy: %.3f' % model.score(X_test_scaled, y_test))\n",
    "\n",
    "fig, ax = plt.subplots(1,1)\n",
    "plot_confusion_matrix(model, \n",
    "             X_test_scaled,\n",
    "             y_test,\n",
    "             values_format='d',\n",
    "             ax=ax)\n",
    "\n",
    "ax.set_title(\"Confusion Matrix (Test Data) of SVM\", fontsize=16)\n",
    "plt.savefig(\"../Images/svm_cn.png\")\n"
   ]
  },
  {
   "cell_type": "code",
   "execution_count": 60,
   "metadata": {},
   "outputs": [
    {
     "name": "stdout",
     "output_type": "stream",
     "text": [
      "                precision    recall  f1-score   support\n",
      "\n",
      "     CANDIDATE       0.81      0.69      0.74       414\n",
      "     CONFIRMED       0.76      0.84      0.79       461\n",
      "FALSE POSITIVE       0.99      1.00      0.99       873\n",
      "\n",
      "      accuracy                           0.88      1748\n",
      "     macro avg       0.85      0.84      0.84      1748\n",
      "  weighted avg       0.88      0.88      0.88      1748\n",
      "\n"
     ]
    }
   ],
   "source": [
    "from sklearn.metrics import classification_report\n",
    "print(classification_report(y_test, y_pred))"
   ]
  },
  {
   "cell_type": "markdown",
   "metadata": {},
   "source": [
    "## Save the model"
   ]
  },
  {
   "cell_type": "code",
   "execution_count": 35,
   "metadata": {},
   "outputs": [
    {
     "data": {
      "text/plain": [
       "['Bincy_Narath_SVM.sav']"
      ]
     },
     "execution_count": 35,
     "metadata": {},
     "output_type": "execute_result"
    }
   ],
   "source": [
    "import joblib\n",
    "filename = 'Bincy_Narath_SVM.sav'\n",
    "joblib.dump(model, filename)"
   ]
  }
 ],
 "metadata": {
  "kernelspec": {
   "display_name": "Python 3.8.1 64-bit ('base': conda)",
   "language": "python",
   "name": "python38164bitbasecondaa2e9191beccf444484f1e2cc79ad9f61"
  },
  "language_info": {
   "codemirror_mode": {
    "name": "ipython",
    "version": 3
   },
   "file_extension": ".py",
   "mimetype": "text/x-python",
   "name": "python",
   "nbconvert_exporter": "python",
   "pygments_lexer": "ipython3",
   "version": "3.8.1"
  }
 },
 "nbformat": 4,
 "nbformat_minor": 4
}
